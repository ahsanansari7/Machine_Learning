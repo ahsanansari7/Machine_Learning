{
 "cells": [
  {
   "cell_type": "code",
   "execution_count": 1,
   "id": "e1461867",
   "metadata": {},
   "outputs": [],
   "source": [
    "import numpy as np\n",
    "import pandas as pd"
   ]
  },
  {
   "cell_type": "code",
   "execution_count": 2,
   "id": "edac92d8",
   "metadata": {},
   "outputs": [],
   "source": [
    "df = pd.read_excel('loan-data.xlsx',usecols=['funded_amnt','term','int_rate','installment',\n",
    "                                            'emp_length','home_ownership','annual_inc',\n",
    "                                             'verification_status','purpose',\n",
    "                                             'total_pymnt','total_rec_prncp','total_rec_int',\n",
    "                                             'last_pymnt_amnt','repay_fail'])"
   ]
  },
  {
   "cell_type": "code",
   "execution_count": 3,
   "id": "8c488169",
   "metadata": {},
   "outputs": [],
   "source": [
    "data = df.copy()"
   ]
  },
  {
   "cell_type": "code",
   "execution_count": 4,
   "id": "3be773f0",
   "metadata": {
    "scrolled": false
   },
   "outputs": [
    {
     "data": {
      "text/html": [
       "<div>\n",
       "<style scoped>\n",
       "    .dataframe tbody tr th:only-of-type {\n",
       "        vertical-align: middle;\n",
       "    }\n",
       "\n",
       "    .dataframe tbody tr th {\n",
       "        vertical-align: top;\n",
       "    }\n",
       "\n",
       "    .dataframe thead th {\n",
       "        text-align: right;\n",
       "    }\n",
       "</style>\n",
       "<table border=\"1\" class=\"dataframe\">\n",
       "  <thead>\n",
       "    <tr style=\"text-align: right;\">\n",
       "      <th></th>\n",
       "      <th>funded_amnt</th>\n",
       "      <th>term</th>\n",
       "      <th>int_rate</th>\n",
       "      <th>installment</th>\n",
       "      <th>emp_length</th>\n",
       "      <th>home_ownership</th>\n",
       "      <th>annual_inc</th>\n",
       "      <th>verification_status</th>\n",
       "      <th>purpose</th>\n",
       "      <th>total_pymnt</th>\n",
       "      <th>total_rec_prncp</th>\n",
       "      <th>total_rec_int</th>\n",
       "      <th>last_pymnt_amnt</th>\n",
       "      <th>repay_fail</th>\n",
       "    </tr>\n",
       "  </thead>\n",
       "  <tbody>\n",
       "    <tr>\n",
       "      <th>0</th>\n",
       "      <td>0.0</td>\n",
       "      <td>36 months</td>\n",
       "      <td>0.00</td>\n",
       "      <td>0.00</td>\n",
       "      <td>&lt; 1 year</td>\n",
       "      <td>RENT</td>\n",
       "      <td>0.0</td>\n",
       "      <td>Not Verified</td>\n",
       "      <td>major_purchase</td>\n",
       "      <td>0.000000</td>\n",
       "      <td>0.00</td>\n",
       "      <td>0.00</td>\n",
       "      <td>0.00</td>\n",
       "      <td>1</td>\n",
       "    </tr>\n",
       "    <tr>\n",
       "      <th>1</th>\n",
       "      <td>2500.0</td>\n",
       "      <td>36 months</td>\n",
       "      <td>13.98</td>\n",
       "      <td>85.42</td>\n",
       "      <td>4 years</td>\n",
       "      <td>RENT</td>\n",
       "      <td>20004.0</td>\n",
       "      <td>Not Verified</td>\n",
       "      <td>other</td>\n",
       "      <td>3075.291779</td>\n",
       "      <td>2500.00</td>\n",
       "      <td>575.29</td>\n",
       "      <td>90.85</td>\n",
       "      <td>0</td>\n",
       "    </tr>\n",
       "    <tr>\n",
       "      <th>2</th>\n",
       "      <td>5000.0</td>\n",
       "      <td>36 months</td>\n",
       "      <td>15.95</td>\n",
       "      <td>175.67</td>\n",
       "      <td>4 years</td>\n",
       "      <td>RENT</td>\n",
       "      <td>59000.0</td>\n",
       "      <td>Not Verified</td>\n",
       "      <td>debt_consolidation</td>\n",
       "      <td>2948.760000</td>\n",
       "      <td>1909.02</td>\n",
       "      <td>873.81</td>\n",
       "      <td>175.67</td>\n",
       "      <td>1</td>\n",
       "    </tr>\n",
       "    <tr>\n",
       "      <th>3</th>\n",
       "      <td>7000.0</td>\n",
       "      <td>36 months</td>\n",
       "      <td>9.91</td>\n",
       "      <td>225.58</td>\n",
       "      <td>10+ years</td>\n",
       "      <td>MORTGAGE</td>\n",
       "      <td>53796.0</td>\n",
       "      <td>Not Verified</td>\n",
       "      <td>other</td>\n",
       "      <td>8082.391880</td>\n",
       "      <td>7000.00</td>\n",
       "      <td>1082.39</td>\n",
       "      <td>1550.27</td>\n",
       "      <td>0</td>\n",
       "    </tr>\n",
       "    <tr>\n",
       "      <th>4</th>\n",
       "      <td>2000.0</td>\n",
       "      <td>36 months</td>\n",
       "      <td>5.42</td>\n",
       "      <td>60.32</td>\n",
       "      <td>10+ years</td>\n",
       "      <td>RENT</td>\n",
       "      <td>30000.0</td>\n",
       "      <td>Not Verified</td>\n",
       "      <td>debt_consolidation</td>\n",
       "      <td>2161.663244</td>\n",
       "      <td>2000.00</td>\n",
       "      <td>161.66</td>\n",
       "      <td>53.12</td>\n",
       "      <td>0</td>\n",
       "    </tr>\n",
       "    <tr>\n",
       "      <th>...</th>\n",
       "      <td>...</td>\n",
       "      <td>...</td>\n",
       "      <td>...</td>\n",
       "      <td>...</td>\n",
       "      <td>...</td>\n",
       "      <td>...</td>\n",
       "      <td>...</td>\n",
       "      <td>...</td>\n",
       "      <td>...</td>\n",
       "      <td>...</td>\n",
       "      <td>...</td>\n",
       "      <td>...</td>\n",
       "      <td>...</td>\n",
       "      <td>...</td>\n",
       "    </tr>\n",
       "    <tr>\n",
       "      <th>38475</th>\n",
       "      <td>3000.0</td>\n",
       "      <td>36 months</td>\n",
       "      <td>11.99</td>\n",
       "      <td>99.63</td>\n",
       "      <td>3 years</td>\n",
       "      <td>RENT</td>\n",
       "      <td>74250.0</td>\n",
       "      <td>Verified</td>\n",
       "      <td>credit_card</td>\n",
       "      <td>3586.619764</td>\n",
       "      <td>3000.00</td>\n",
       "      <td>586.62</td>\n",
       "      <td>100.30</td>\n",
       "      <td>0</td>\n",
       "    </tr>\n",
       "    <tr>\n",
       "      <th>38476</th>\n",
       "      <td>10400.0</td>\n",
       "      <td>36 months</td>\n",
       "      <td>13.49</td>\n",
       "      <td>352.88</td>\n",
       "      <td>9 years</td>\n",
       "      <td>RENT</td>\n",
       "      <td>62000.0</td>\n",
       "      <td>Source Verified</td>\n",
       "      <td>credit_card</td>\n",
       "      <td>12703.534030</td>\n",
       "      <td>10400.00</td>\n",
       "      <td>2303.53</td>\n",
       "      <td>393.08</td>\n",
       "      <td>0</td>\n",
       "    </tr>\n",
       "    <tr>\n",
       "      <th>38477</th>\n",
       "      <td>10550.0</td>\n",
       "      <td>60 months</td>\n",
       "      <td>14.96</td>\n",
       "      <td>250.77</td>\n",
       "      <td>10+ years</td>\n",
       "      <td>MORTGAGE</td>\n",
       "      <td>95088.0</td>\n",
       "      <td>Source Verified</td>\n",
       "      <td>debt_consolidation</td>\n",
       "      <td>14202.267530</td>\n",
       "      <td>10550.00</td>\n",
       "      <td>3652.27</td>\n",
       "      <td>5439.96</td>\n",
       "      <td>0</td>\n",
       "    </tr>\n",
       "    <tr>\n",
       "      <th>38478</th>\n",
       "      <td>10000.0</td>\n",
       "      <td>36 months</td>\n",
       "      <td>16.89</td>\n",
       "      <td>355.99</td>\n",
       "      <td>1 year</td>\n",
       "      <td>RENT</td>\n",
       "      <td>48720.0</td>\n",
       "      <td>Not Verified</td>\n",
       "      <td>debt_consolidation</td>\n",
       "      <td>12815.178320</td>\n",
       "      <td>10000.00</td>\n",
       "      <td>2815.18</td>\n",
       "      <td>380.63</td>\n",
       "      <td>0</td>\n",
       "    </tr>\n",
       "    <tr>\n",
       "      <th>38479</th>\n",
       "      <td>3200.0</td>\n",
       "      <td>36 months</td>\n",
       "      <td>13.49</td>\n",
       "      <td>108.58</td>\n",
       "      <td>7 years</td>\n",
       "      <td>RENT</td>\n",
       "      <td>38400.0</td>\n",
       "      <td>Source Verified</td>\n",
       "      <td>debt_consolidation</td>\n",
       "      <td>3908.767275</td>\n",
       "      <td>3200.00</td>\n",
       "      <td>708.77</td>\n",
       "      <td>111.88</td>\n",
       "      <td>0</td>\n",
       "    </tr>\n",
       "  </tbody>\n",
       "</table>\n",
       "<p>38480 rows × 14 columns</p>\n",
       "</div>"
      ],
      "text/plain": [
       "       funded_amnt       term  int_rate  installment emp_length  \\\n",
       "0              0.0  36 months      0.00         0.00   < 1 year   \n",
       "1           2500.0  36 months     13.98        85.42    4 years   \n",
       "2           5000.0  36 months     15.95       175.67    4 years   \n",
       "3           7000.0  36 months      9.91       225.58  10+ years   \n",
       "4           2000.0  36 months      5.42        60.32  10+ years   \n",
       "...            ...        ...       ...          ...        ...   \n",
       "38475       3000.0  36 months     11.99        99.63    3 years   \n",
       "38476      10400.0  36 months     13.49       352.88    9 years   \n",
       "38477      10550.0  60 months     14.96       250.77  10+ years   \n",
       "38478      10000.0  36 months     16.89       355.99     1 year   \n",
       "38479       3200.0  36 months     13.49       108.58    7 years   \n",
       "\n",
       "      home_ownership  annual_inc verification_status             purpose  \\\n",
       "0               RENT         0.0        Not Verified      major_purchase   \n",
       "1               RENT     20004.0        Not Verified               other   \n",
       "2               RENT     59000.0        Not Verified  debt_consolidation   \n",
       "3           MORTGAGE     53796.0        Not Verified               other   \n",
       "4               RENT     30000.0        Not Verified  debt_consolidation   \n",
       "...              ...         ...                 ...                 ...   \n",
       "38475           RENT     74250.0            Verified         credit_card   \n",
       "38476           RENT     62000.0     Source Verified         credit_card   \n",
       "38477       MORTGAGE     95088.0     Source Verified  debt_consolidation   \n",
       "38478           RENT     48720.0        Not Verified  debt_consolidation   \n",
       "38479           RENT     38400.0     Source Verified  debt_consolidation   \n",
       "\n",
       "        total_pymnt  total_rec_prncp  total_rec_int  last_pymnt_amnt  \\\n",
       "0          0.000000             0.00           0.00             0.00   \n",
       "1       3075.291779          2500.00         575.29            90.85   \n",
       "2       2948.760000          1909.02         873.81           175.67   \n",
       "3       8082.391880          7000.00        1082.39          1550.27   \n",
       "4       2161.663244          2000.00         161.66            53.12   \n",
       "...             ...              ...            ...              ...   \n",
       "38475   3586.619764          3000.00         586.62           100.30   \n",
       "38476  12703.534030         10400.00        2303.53           393.08   \n",
       "38477  14202.267530         10550.00        3652.27          5439.96   \n",
       "38478  12815.178320         10000.00        2815.18           380.63   \n",
       "38479   3908.767275          3200.00         708.77           111.88   \n",
       "\n",
       "       repay_fail  \n",
       "0               1  \n",
       "1               0  \n",
       "2               1  \n",
       "3               0  \n",
       "4               0  \n",
       "...           ...  \n",
       "38475           0  \n",
       "38476           0  \n",
       "38477           0  \n",
       "38478           0  \n",
       "38479           0  \n",
       "\n",
       "[38480 rows x 14 columns]"
      ]
     },
     "execution_count": 4,
     "metadata": {},
     "output_type": "execute_result"
    }
   ],
   "source": [
    "df"
   ]
  },
  {
   "cell_type": "code",
   "execution_count": 5,
   "id": "3da55efb",
   "metadata": {},
   "outputs": [
    {
     "data": {
      "text/plain": [
       "funded_amnt              1\n",
       "term                     0\n",
       "int_rate                 0\n",
       "installment              1\n",
       "emp_length             993\n",
       "home_ownership           0\n",
       "annual_inc               2\n",
       "verification_status      0\n",
       "purpose                  0\n",
       "total_pymnt              1\n",
       "total_rec_prncp          1\n",
       "total_rec_int            1\n",
       "last_pymnt_amnt          1\n",
       "repay_fail               0\n",
       "dtype: int64"
      ]
     },
     "execution_count": 5,
     "metadata": {},
     "output_type": "execute_result"
    }
   ],
   "source": [
    "# checking null values\n",
    "df.isna().sum()"
   ]
  },
  {
   "cell_type": "code",
   "execution_count": 6,
   "id": "a79da056",
   "metadata": {},
   "outputs": [],
   "source": [
    "# Drop null values with complete record\n",
    "df = df.dropna()"
   ]
  },
  {
   "cell_type": "code",
   "execution_count": 7,
   "id": "84de5bdc",
   "metadata": {},
   "outputs": [
    {
     "data": {
      "text/plain": [
       "funded_amnt            0\n",
       "term                   0\n",
       "int_rate               0\n",
       "installment            0\n",
       "emp_length             0\n",
       "home_ownership         0\n",
       "annual_inc             0\n",
       "verification_status    0\n",
       "purpose                0\n",
       "total_pymnt            0\n",
       "total_rec_prncp        0\n",
       "total_rec_int          0\n",
       "last_pymnt_amnt        0\n",
       "repay_fail             0\n",
       "dtype: int64"
      ]
     },
     "execution_count": 7,
     "metadata": {},
     "output_type": "execute_result"
    }
   ],
   "source": [
    "df.isna().sum()"
   ]
  },
  {
   "cell_type": "code",
   "execution_count": 8,
   "id": "c478e8b9",
   "metadata": {},
   "outputs": [
    {
     "data": {
      "text/plain": [
       "0"
      ]
     },
     "execution_count": 8,
     "metadata": {},
     "output_type": "execute_result"
    }
   ],
   "source": [
    "# checking duplicate values\n",
    "df.duplicated().sum()"
   ]
  },
  {
   "cell_type": "code",
   "execution_count": 9,
   "id": "e336468d",
   "metadata": {},
   "outputs": [
    {
     "name": "stdout",
     "output_type": "stream",
     "text": [
      "<class 'pandas.core.frame.DataFrame'>\n",
      "Int64Index: 37485 entries, 0 to 38479\n",
      "Data columns (total 14 columns):\n",
      " #   Column               Non-Null Count  Dtype  \n",
      "---  ------               --------------  -----  \n",
      " 0   funded_amnt          37485 non-null  float64\n",
      " 1   term                 37485 non-null  object \n",
      " 2   int_rate             37485 non-null  float64\n",
      " 3   installment          37485 non-null  float64\n",
      " 4   emp_length           37485 non-null  object \n",
      " 5   home_ownership       37485 non-null  object \n",
      " 6   annual_inc           37485 non-null  float64\n",
      " 7   verification_status  37485 non-null  object \n",
      " 8   purpose              37485 non-null  object \n",
      " 9   total_pymnt          37485 non-null  float64\n",
      " 10  total_rec_prncp      37485 non-null  float64\n",
      " 11  total_rec_int        37485 non-null  float64\n",
      " 12  last_pymnt_amnt      37485 non-null  float64\n",
      " 13  repay_fail           37485 non-null  int64  \n",
      "dtypes: float64(8), int64(1), object(5)\n",
      "memory usage: 4.3+ MB\n"
     ]
    }
   ],
   "source": [
    "df.info()"
   ]
  },
  {
   "cell_type": "code",
   "execution_count": 10,
   "id": "ca8fd613",
   "metadata": {},
   "outputs": [
    {
     "name": "stderr",
     "output_type": "stream",
     "text": [
      "C:\\Users\\HP\\AppData\\Local\\Temp\\ipykernel_872\\1740231545.py:2: SettingWithCopyWarning: \n",
      "A value is trying to be set on a copy of a slice from a DataFrame.\n",
      "Try using .loc[row_indexer,col_indexer] = value instead\n",
      "\n",
      "See the caveats in the documentation: https://pandas.pydata.org/pandas-docs/stable/user_guide/indexing.html#returning-a-view-versus-a-copy\n",
      "  df['term'] = df['term'].str.split().str.get(0).str.replace(' ','')\n"
     ]
    }
   ],
   "source": [
    "# choose only integer in the 'term' column\n",
    "df['term'] = df['term'].str.split().str.get(0).str.replace(' ','')"
   ]
  },
  {
   "cell_type": "code",
   "execution_count": 11,
   "id": "43a24f77",
   "metadata": {},
   "outputs": [
    {
     "name": "stderr",
     "output_type": "stream",
     "text": [
      "C:\\Users\\HP\\AppData\\Local\\Temp\\ipykernel_872\\2304212772.py:2: SettingWithCopyWarning: \n",
      "A value is trying to be set on a copy of a slice from a DataFrame.\n",
      "Try using .loc[row_indexer,col_indexer] = value instead\n",
      "\n",
      "See the caveats in the documentation: https://pandas.pydata.org/pandas-docs/stable/user_guide/indexing.html#returning-a-view-versus-a-copy\n",
      "  df['term'] = df['term'].astype(int)\n"
     ]
    }
   ],
   "source": [
    "# change type object into int column 'term'\n",
    "df['term'] = df['term'].astype(int)"
   ]
  },
  {
   "cell_type": "code",
   "execution_count": 12,
   "id": "b5414c7c",
   "metadata": {},
   "outputs": [
    {
     "data": {
      "text/plain": [
       "0        36\n",
       "1        36\n",
       "2        36\n",
       "3        36\n",
       "4        36\n",
       "         ..\n",
       "38475    36\n",
       "38476    36\n",
       "38477    60\n",
       "38478    36\n",
       "38479    36\n",
       "Name: term, Length: 37485, dtype: int32"
      ]
     },
     "execution_count": 12,
     "metadata": {},
     "output_type": "execute_result"
    }
   ],
   "source": [
    "df['term']"
   ]
  },
  {
   "cell_type": "code",
   "execution_count": 13,
   "id": "1dd37c1d",
   "metadata": {},
   "outputs": [
    {
     "name": "stderr",
     "output_type": "stream",
     "text": [
      "C:\\Users\\HP\\AppData\\Local\\Temp\\ipykernel_872\\2848625259.py:17: SettingWithCopyWarning: \n",
      "A value is trying to be set on a copy of a slice from a DataFrame.\n",
      "Try using .loc[row_indexer,col_indexer] = value instead\n",
      "\n",
      "See the caveats in the documentation: https://pandas.pydata.org/pandas-docs/stable/user_guide/indexing.html#returning-a-view-versus-a-copy\n",
      "  df['emp_length'] = df['emp_length'].replace(emp_length_mapping)\n"
     ]
    }
   ],
   "source": [
    "# choose only integer column 'emp_length'\n",
    "emp_length_mapping = {\n",
    "    '< 1 year': 0,\n",
    "    '1 year': 1,\n",
    "    '2 years': 2,\n",
    "    '3 years': 3,\n",
    "    '4 years': 4,\n",
    "    '5 years': 5,\n",
    "    '6 years': 6,\n",
    "    '7 years': 7,\n",
    "    '8 years': 8,\n",
    "    '9 years': 9,\n",
    "    '10+ years': 10\n",
    "}\n",
    "\n",
    "# Use the mapping to replace the strings with integers\n",
    "df['emp_length'] = df['emp_length'].replace(emp_length_mapping)"
   ]
  },
  {
   "cell_type": "code",
   "execution_count": 14,
   "id": "55e4dcea",
   "metadata": {},
   "outputs": [
    {
     "name": "stdout",
     "output_type": "stream",
     "text": [
      "<class 'pandas.core.frame.DataFrame'>\n",
      "Int64Index: 37485 entries, 0 to 38479\n",
      "Data columns (total 14 columns):\n",
      " #   Column               Non-Null Count  Dtype  \n",
      "---  ------               --------------  -----  \n",
      " 0   funded_amnt          37485 non-null  float64\n",
      " 1   term                 37485 non-null  int32  \n",
      " 2   int_rate             37485 non-null  float64\n",
      " 3   installment          37485 non-null  float64\n",
      " 4   emp_length           37485 non-null  int64  \n",
      " 5   home_ownership       37485 non-null  object \n",
      " 6   annual_inc           37485 non-null  float64\n",
      " 7   verification_status  37485 non-null  object \n",
      " 8   purpose              37485 non-null  object \n",
      " 9   total_pymnt          37485 non-null  float64\n",
      " 10  total_rec_prncp      37485 non-null  float64\n",
      " 11  total_rec_int        37485 non-null  float64\n",
      " 12  last_pymnt_amnt      37485 non-null  float64\n",
      " 13  repay_fail           37485 non-null  int64  \n",
      "dtypes: float64(8), int32(1), int64(2), object(3)\n",
      "memory usage: 4.1+ MB\n"
     ]
    }
   ],
   "source": [
    "df.info()"
   ]
  },
  {
   "cell_type": "code",
   "execution_count": 15,
   "id": "ae4293a8",
   "metadata": {},
   "outputs": [
    {
     "data": {
      "text/plain": [
       "RENT        17868\n",
       "MORTGAGE    16723\n",
       "OWN          2765\n",
       "OTHER         125\n",
       "NONE            4\n",
       "Name: home_ownership, dtype: int64"
      ]
     },
     "execution_count": 15,
     "metadata": {},
     "output_type": "execute_result"
    }
   ],
   "source": [
    "df.home_ownership.value_counts()"
   ]
  },
  {
   "cell_type": "code",
   "execution_count": 16,
   "id": "73b3a83d",
   "metadata": {},
   "outputs": [
    {
     "name": "stderr",
     "output_type": "stream",
     "text": [
      "C:\\Users\\HP\\AppData\\Local\\Temp\\ipykernel_872\\1980732604.py:2: SettingWithCopyWarning: \n",
      "A value is trying to be set on a copy of a slice from a DataFrame.\n",
      "Try using .loc[row_indexer,col_indexer] = value instead\n",
      "\n",
      "See the caveats in the documentation: https://pandas.pydata.org/pandas-docs/stable/user_guide/indexing.html#returning-a-view-versus-a-copy\n",
      "  df['home_ownership'] = df['home_ownership'].apply(lambda x: \"OTHER\" if x == \"NONE\" else x)\n"
     ]
    }
   ],
   "source": [
    "# convert None category into Other category in column 'home_ownerships'\n",
    "df['home_ownership'] = df['home_ownership'].apply(lambda x: \"OTHER\" if x == \"NONE\" else x)"
   ]
  },
  {
   "cell_type": "code",
   "execution_count": 17,
   "id": "b321dfe2",
   "metadata": {},
   "outputs": [
    {
     "data": {
      "text/plain": [
       "RENT        17868\n",
       "MORTGAGE    16723\n",
       "OWN          2765\n",
       "OTHER         129\n",
       "Name: home_ownership, dtype: int64"
      ]
     },
     "execution_count": 17,
     "metadata": {},
     "output_type": "execute_result"
    }
   ],
   "source": [
    " df['home_ownership'].value_counts()"
   ]
  },
  {
   "cell_type": "code",
   "execution_count": 18,
   "id": "01f84c7e",
   "metadata": {},
   "outputs": [
    {
     "name": "stdout",
     "output_type": "stream",
     "text": [
      "<class 'pandas.core.frame.DataFrame'>\n",
      "Int64Index: 37485 entries, 0 to 38479\n",
      "Data columns (total 14 columns):\n",
      " #   Column               Non-Null Count  Dtype  \n",
      "---  ------               --------------  -----  \n",
      " 0   funded_amnt          37485 non-null  float64\n",
      " 1   term                 37485 non-null  int32  \n",
      " 2   int_rate             37485 non-null  float64\n",
      " 3   installment          37485 non-null  float64\n",
      " 4   emp_length           37485 non-null  int64  \n",
      " 5   home_ownership       37485 non-null  object \n",
      " 6   annual_inc           37485 non-null  float64\n",
      " 7   verification_status  37485 non-null  object \n",
      " 8   purpose              37485 non-null  object \n",
      " 9   total_pymnt          37485 non-null  float64\n",
      " 10  total_rec_prncp      37485 non-null  float64\n",
      " 11  total_rec_int        37485 non-null  float64\n",
      " 12  last_pymnt_amnt      37485 non-null  float64\n",
      " 13  repay_fail           37485 non-null  int64  \n",
      "dtypes: float64(8), int32(1), int64(2), object(3)\n",
      "memory usage: 4.1+ MB\n"
     ]
    }
   ],
   "source": [
    "df.info()"
   ]
  },
  {
   "cell_type": "code",
   "execution_count": 20,
   "id": "d98bae02",
   "metadata": {},
   "outputs": [
    {
     "name": "stderr",
     "output_type": "stream",
     "text": [
      "C:\\Users\\HP\\AppData\\Local\\Temp\\ipykernel_872\\1626701939.py:8: SettingWithCopyWarning: \n",
      "A value is trying to be set on a copy of a slice from a DataFrame.\n",
      "Try using .loc[row_indexer,col_indexer] = value instead\n",
      "\n",
      "See the caveats in the documentation: https://pandas.pydata.org/pandas-docs/stable/user_guide/indexing.html#returning-a-view-versus-a-copy\n",
      "  df['verification_status'] = df['verification_status'].replace(verification_status_mapping)\n"
     ]
    }
   ],
   "source": [
    "# change the verification_status column in to encoding\n",
    "verification_status_mapping = {\n",
    "    'Not Verified': 0,\n",
    "    'Verified': 1,\n",
    "    'Source Verified': 1\n",
    "}\n",
    "\n",
    "df['verification_status'] = df['verification_status'].replace(verification_status_mapping)"
   ]
  },
  {
   "cell_type": "code",
   "execution_count": 21,
   "id": "fc989509",
   "metadata": {},
   "outputs": [
    {
     "name": "stderr",
     "output_type": "stream",
     "text": [
      "C:\\Users\\HP\\AppData\\Local\\Temp\\ipykernel_872\\739140682.py:8: SettingWithCopyWarning: \n",
      "A value is trying to be set on a copy of a slice from a DataFrame.\n",
      "Try using .loc[row_indexer,col_indexer] = value instead\n",
      "\n",
      "See the caveats in the documentation: https://pandas.pydata.org/pandas-docs/stable/user_guide/indexing.html#returning-a-view-versus-a-copy\n",
      "  df['home_ownership'] = df['home_ownership'].replace(home_ownership_mapping)\n"
     ]
    }
   ],
   "source": [
    "# change the home_ownership column into encoding\n",
    "home_ownership_mapping = {\n",
    "    'RENT': 0,\n",
    "    'MORTGAGE': 1,\n",
    "    'OWN': 2,\n",
    "    'OTHER': 3\n",
    "}\n",
    "df['home_ownership'] = df['home_ownership'].replace(home_ownership_mapping)"
   ]
  },
  {
   "cell_type": "code",
   "execution_count": 22,
   "id": "77677bb4",
   "metadata": {
    "scrolled": true
   },
   "outputs": [
    {
     "data": {
      "text/plain": [
       "0        0\n",
       "1        0\n",
       "2        0\n",
       "3        1\n",
       "4        0\n",
       "        ..\n",
       "38475    0\n",
       "38476    0\n",
       "38477    1\n",
       "38478    0\n",
       "38479    0\n",
       "Name: home_ownership, Length: 37485, dtype: int64"
      ]
     },
     "execution_count": 22,
     "metadata": {},
     "output_type": "execute_result"
    }
   ],
   "source": [
    "df['home_ownership']"
   ]
  },
  {
   "cell_type": "code",
   "execution_count": 23,
   "id": "67020b35",
   "metadata": {},
   "outputs": [
    {
     "data": {
      "text/html": [
       "<div>\n",
       "<style scoped>\n",
       "    .dataframe tbody tr th:only-of-type {\n",
       "        vertical-align: middle;\n",
       "    }\n",
       "\n",
       "    .dataframe tbody tr th {\n",
       "        vertical-align: top;\n",
       "    }\n",
       "\n",
       "    .dataframe thead th {\n",
       "        text-align: right;\n",
       "    }\n",
       "</style>\n",
       "<table border=\"1\" class=\"dataframe\">\n",
       "  <thead>\n",
       "    <tr style=\"text-align: right;\">\n",
       "      <th></th>\n",
       "      <th>funded_amnt</th>\n",
       "      <th>term</th>\n",
       "      <th>int_rate</th>\n",
       "      <th>installment</th>\n",
       "      <th>emp_length</th>\n",
       "      <th>home_ownership</th>\n",
       "      <th>annual_inc</th>\n",
       "      <th>verification_status</th>\n",
       "      <th>purpose</th>\n",
       "      <th>total_pymnt</th>\n",
       "      <th>total_rec_prncp</th>\n",
       "      <th>total_rec_int</th>\n",
       "      <th>last_pymnt_amnt</th>\n",
       "      <th>repay_fail</th>\n",
       "    </tr>\n",
       "  </thead>\n",
       "  <tbody>\n",
       "    <tr>\n",
       "      <th>0</th>\n",
       "      <td>0.0</td>\n",
       "      <td>36</td>\n",
       "      <td>0.00</td>\n",
       "      <td>0.00</td>\n",
       "      <td>0</td>\n",
       "      <td>0</td>\n",
       "      <td>0.0</td>\n",
       "      <td>0</td>\n",
       "      <td>major_purchase</td>\n",
       "      <td>0.000000</td>\n",
       "      <td>0.00</td>\n",
       "      <td>0.00</td>\n",
       "      <td>0.00</td>\n",
       "      <td>1</td>\n",
       "    </tr>\n",
       "    <tr>\n",
       "      <th>1</th>\n",
       "      <td>2500.0</td>\n",
       "      <td>36</td>\n",
       "      <td>13.98</td>\n",
       "      <td>85.42</td>\n",
       "      <td>4</td>\n",
       "      <td>0</td>\n",
       "      <td>20004.0</td>\n",
       "      <td>0</td>\n",
       "      <td>other</td>\n",
       "      <td>3075.291779</td>\n",
       "      <td>2500.00</td>\n",
       "      <td>575.29</td>\n",
       "      <td>90.85</td>\n",
       "      <td>0</td>\n",
       "    </tr>\n",
       "    <tr>\n",
       "      <th>2</th>\n",
       "      <td>5000.0</td>\n",
       "      <td>36</td>\n",
       "      <td>15.95</td>\n",
       "      <td>175.67</td>\n",
       "      <td>4</td>\n",
       "      <td>0</td>\n",
       "      <td>59000.0</td>\n",
       "      <td>0</td>\n",
       "      <td>debt_consolidation</td>\n",
       "      <td>2948.760000</td>\n",
       "      <td>1909.02</td>\n",
       "      <td>873.81</td>\n",
       "      <td>175.67</td>\n",
       "      <td>1</td>\n",
       "    </tr>\n",
       "    <tr>\n",
       "      <th>3</th>\n",
       "      <td>7000.0</td>\n",
       "      <td>36</td>\n",
       "      <td>9.91</td>\n",
       "      <td>225.58</td>\n",
       "      <td>10</td>\n",
       "      <td>1</td>\n",
       "      <td>53796.0</td>\n",
       "      <td>0</td>\n",
       "      <td>other</td>\n",
       "      <td>8082.391880</td>\n",
       "      <td>7000.00</td>\n",
       "      <td>1082.39</td>\n",
       "      <td>1550.27</td>\n",
       "      <td>0</td>\n",
       "    </tr>\n",
       "    <tr>\n",
       "      <th>4</th>\n",
       "      <td>2000.0</td>\n",
       "      <td>36</td>\n",
       "      <td>5.42</td>\n",
       "      <td>60.32</td>\n",
       "      <td>10</td>\n",
       "      <td>0</td>\n",
       "      <td>30000.0</td>\n",
       "      <td>0</td>\n",
       "      <td>debt_consolidation</td>\n",
       "      <td>2161.663244</td>\n",
       "      <td>2000.00</td>\n",
       "      <td>161.66</td>\n",
       "      <td>53.12</td>\n",
       "      <td>0</td>\n",
       "    </tr>\n",
       "    <tr>\n",
       "      <th>...</th>\n",
       "      <td>...</td>\n",
       "      <td>...</td>\n",
       "      <td>...</td>\n",
       "      <td>...</td>\n",
       "      <td>...</td>\n",
       "      <td>...</td>\n",
       "      <td>...</td>\n",
       "      <td>...</td>\n",
       "      <td>...</td>\n",
       "      <td>...</td>\n",
       "      <td>...</td>\n",
       "      <td>...</td>\n",
       "      <td>...</td>\n",
       "      <td>...</td>\n",
       "    </tr>\n",
       "    <tr>\n",
       "      <th>38475</th>\n",
       "      <td>3000.0</td>\n",
       "      <td>36</td>\n",
       "      <td>11.99</td>\n",
       "      <td>99.63</td>\n",
       "      <td>3</td>\n",
       "      <td>0</td>\n",
       "      <td>74250.0</td>\n",
       "      <td>1</td>\n",
       "      <td>credit_card</td>\n",
       "      <td>3586.619764</td>\n",
       "      <td>3000.00</td>\n",
       "      <td>586.62</td>\n",
       "      <td>100.30</td>\n",
       "      <td>0</td>\n",
       "    </tr>\n",
       "    <tr>\n",
       "      <th>38476</th>\n",
       "      <td>10400.0</td>\n",
       "      <td>36</td>\n",
       "      <td>13.49</td>\n",
       "      <td>352.88</td>\n",
       "      <td>9</td>\n",
       "      <td>0</td>\n",
       "      <td>62000.0</td>\n",
       "      <td>1</td>\n",
       "      <td>credit_card</td>\n",
       "      <td>12703.534030</td>\n",
       "      <td>10400.00</td>\n",
       "      <td>2303.53</td>\n",
       "      <td>393.08</td>\n",
       "      <td>0</td>\n",
       "    </tr>\n",
       "    <tr>\n",
       "      <th>38477</th>\n",
       "      <td>10550.0</td>\n",
       "      <td>60</td>\n",
       "      <td>14.96</td>\n",
       "      <td>250.77</td>\n",
       "      <td>10</td>\n",
       "      <td>1</td>\n",
       "      <td>95088.0</td>\n",
       "      <td>1</td>\n",
       "      <td>debt_consolidation</td>\n",
       "      <td>14202.267530</td>\n",
       "      <td>10550.00</td>\n",
       "      <td>3652.27</td>\n",
       "      <td>5439.96</td>\n",
       "      <td>0</td>\n",
       "    </tr>\n",
       "    <tr>\n",
       "      <th>38478</th>\n",
       "      <td>10000.0</td>\n",
       "      <td>36</td>\n",
       "      <td>16.89</td>\n",
       "      <td>355.99</td>\n",
       "      <td>1</td>\n",
       "      <td>0</td>\n",
       "      <td>48720.0</td>\n",
       "      <td>0</td>\n",
       "      <td>debt_consolidation</td>\n",
       "      <td>12815.178320</td>\n",
       "      <td>10000.00</td>\n",
       "      <td>2815.18</td>\n",
       "      <td>380.63</td>\n",
       "      <td>0</td>\n",
       "    </tr>\n",
       "    <tr>\n",
       "      <th>38479</th>\n",
       "      <td>3200.0</td>\n",
       "      <td>36</td>\n",
       "      <td>13.49</td>\n",
       "      <td>108.58</td>\n",
       "      <td>7</td>\n",
       "      <td>0</td>\n",
       "      <td>38400.0</td>\n",
       "      <td>1</td>\n",
       "      <td>debt_consolidation</td>\n",
       "      <td>3908.767275</td>\n",
       "      <td>3200.00</td>\n",
       "      <td>708.77</td>\n",
       "      <td>111.88</td>\n",
       "      <td>0</td>\n",
       "    </tr>\n",
       "  </tbody>\n",
       "</table>\n",
       "<p>37485 rows × 14 columns</p>\n",
       "</div>"
      ],
      "text/plain": [
       "       funded_amnt  term  int_rate  installment  emp_length  home_ownership  \\\n",
       "0              0.0    36      0.00         0.00           0               0   \n",
       "1           2500.0    36     13.98        85.42           4               0   \n",
       "2           5000.0    36     15.95       175.67           4               0   \n",
       "3           7000.0    36      9.91       225.58          10               1   \n",
       "4           2000.0    36      5.42        60.32          10               0   \n",
       "...            ...   ...       ...          ...         ...             ...   \n",
       "38475       3000.0    36     11.99        99.63           3               0   \n",
       "38476      10400.0    36     13.49       352.88           9               0   \n",
       "38477      10550.0    60     14.96       250.77          10               1   \n",
       "38478      10000.0    36     16.89       355.99           1               0   \n",
       "38479       3200.0    36     13.49       108.58           7               0   \n",
       "\n",
       "       annual_inc  verification_status             purpose   total_pymnt  \\\n",
       "0             0.0                    0      major_purchase      0.000000   \n",
       "1         20004.0                    0               other   3075.291779   \n",
       "2         59000.0                    0  debt_consolidation   2948.760000   \n",
       "3         53796.0                    0               other   8082.391880   \n",
       "4         30000.0                    0  debt_consolidation   2161.663244   \n",
       "...           ...                  ...                 ...           ...   \n",
       "38475     74250.0                    1         credit_card   3586.619764   \n",
       "38476     62000.0                    1         credit_card  12703.534030   \n",
       "38477     95088.0                    1  debt_consolidation  14202.267530   \n",
       "38478     48720.0                    0  debt_consolidation  12815.178320   \n",
       "38479     38400.0                    1  debt_consolidation   3908.767275   \n",
       "\n",
       "       total_rec_prncp  total_rec_int  last_pymnt_amnt  repay_fail  \n",
       "0                 0.00           0.00             0.00           1  \n",
       "1              2500.00         575.29            90.85           0  \n",
       "2              1909.02         873.81           175.67           1  \n",
       "3              7000.00        1082.39          1550.27           0  \n",
       "4              2000.00         161.66            53.12           0  \n",
       "...                ...            ...              ...         ...  \n",
       "38475          3000.00         586.62           100.30           0  \n",
       "38476         10400.00        2303.53           393.08           0  \n",
       "38477         10550.00        3652.27          5439.96           0  \n",
       "38478         10000.00        2815.18           380.63           0  \n",
       "38479          3200.00         708.77           111.88           0  \n",
       "\n",
       "[37485 rows x 14 columns]"
      ]
     },
     "execution_count": 23,
     "metadata": {},
     "output_type": "execute_result"
    }
   ],
   "source": [
    "df"
   ]
  },
  {
   "cell_type": "code",
   "execution_count": 24,
   "id": "499e01a3",
   "metadata": {},
   "outputs": [],
   "source": [
    "# create dummies \n",
    "df = pd.get_dummies(df)"
   ]
  },
  {
   "cell_type": "code",
   "execution_count": 25,
   "id": "817c3466",
   "metadata": {},
   "outputs": [
    {
     "data": {
      "text/plain": [
       "Index(['funded_amnt', 'term', 'int_rate', 'installment', 'emp_length',\n",
       "       'home_ownership', 'annual_inc', 'verification_status', 'total_pymnt',\n",
       "       'total_rec_prncp', 'total_rec_int', 'last_pymnt_amnt', 'repay_fail',\n",
       "       'purpose_car', 'purpose_credit_card', 'purpose_debt_consolidation',\n",
       "       'purpose_educational', 'purpose_home_improvement', 'purpose_house',\n",
       "       'purpose_major_purchase', 'purpose_medical', 'purpose_moving',\n",
       "       'purpose_other', 'purpose_renewable_energy', 'purpose_small_business',\n",
       "       'purpose_vacation', 'purpose_wedding'],\n",
       "      dtype='object')"
      ]
     },
     "execution_count": 25,
     "metadata": {},
     "output_type": "execute_result"
    }
   ],
   "source": [
    "df.columns"
   ]
  },
  {
   "cell_type": "code",
   "execution_count": 27,
   "id": "be8d3046",
   "metadata": {},
   "outputs": [],
   "source": [
    "X = df.drop('repay_fail', axis=1)"
   ]
  },
  {
   "cell_type": "code",
   "execution_count": 28,
   "id": "3eed0c01",
   "metadata": {},
   "outputs": [],
   "source": [
    "y = df['repay_fail']"
   ]
  },
  {
   "cell_type": "code",
   "execution_count": 30,
   "id": "e5bce979",
   "metadata": {},
   "outputs": [
    {
     "data": {
      "text/plain": [
       "Index(['funded_amnt', 'term', 'int_rate', 'installment', 'emp_length',\n",
       "       'home_ownership', 'annual_inc', 'verification_status', 'total_pymnt',\n",
       "       'total_rec_prncp', 'total_rec_int', 'last_pymnt_amnt', 'purpose_car',\n",
       "       'purpose_credit_card', 'purpose_debt_consolidation',\n",
       "       'purpose_educational', 'purpose_home_improvement', 'purpose_house',\n",
       "       'purpose_major_purchase', 'purpose_medical', 'purpose_moving',\n",
       "       'purpose_other', 'purpose_renewable_energy', 'purpose_small_business',\n",
       "       'purpose_vacation', 'purpose_wedding'],\n",
       "      dtype='object')"
      ]
     },
     "execution_count": 30,
     "metadata": {},
     "output_type": "execute_result"
    }
   ],
   "source": [
    "X.columns"
   ]
  },
  {
   "cell_type": "code",
   "execution_count": 36,
   "id": "56b133bc",
   "metadata": {},
   "outputs": [
    {
     "data": {
      "text/plain": [
       "0        1\n",
       "1        0\n",
       "2        1\n",
       "3        0\n",
       "4        0\n",
       "        ..\n",
       "38475    0\n",
       "38476    0\n",
       "38477    0\n",
       "38478    0\n",
       "38479    0\n",
       "Name: repay_fail, Length: 37485, dtype: int64"
      ]
     },
     "execution_count": 36,
     "metadata": {},
     "output_type": "execute_result"
    }
   ],
   "source": [
    "y"
   ]
  },
  {
   "cell_type": "code",
   "execution_count": 46,
   "id": "a44f37f5",
   "metadata": {},
   "outputs": [],
   "source": [
    "# apply train test split\n",
    "from sklearn.model_selection import train_test_split\n",
    "X_train,X_test,y_train,y_test = train_test_split(X,y,test_size=0.3)"
   ]
  },
  {
   "cell_type": "code",
   "execution_count": 51,
   "id": "4ec68e4c",
   "metadata": {},
   "outputs": [
    {
     "data": {
      "text/plain": [
       "(26239,)"
      ]
     },
     "execution_count": 51,
     "metadata": {},
     "output_type": "execute_result"
    }
   ],
   "source": [
    "y_train.shape"
   ]
  },
  {
   "cell_type": "code",
   "execution_count": 52,
   "id": "5a347887",
   "metadata": {},
   "outputs": [
    {
     "data": {
      "text/plain": [
       "(26239, 26)"
      ]
     },
     "execution_count": 52,
     "metadata": {},
     "output_type": "execute_result"
    }
   ],
   "source": [
    "X_train.shape"
   ]
  },
  {
   "cell_type": "code",
   "execution_count": 53,
   "id": "f841c8e3",
   "metadata": {},
   "outputs": [],
   "source": [
    "# import classifier\n",
    "from sklearn.tree import DecisionTreeClassifier\n",
    "from sklearn.compose import make_column_transformer\n",
    "from sklearn.pipeline import make_pipeline\n",
    "from sklearn.metrics import r2_score"
   ]
  },
  {
   "cell_type": "code",
   "execution_count": 56,
   "id": "5763b9db",
   "metadata": {},
   "outputs": [
    {
     "data": {
      "text/html": [
       "<style>#sk-container-id-2 {color: black;background-color: white;}#sk-container-id-2 pre{padding: 0;}#sk-container-id-2 div.sk-toggleable {background-color: white;}#sk-container-id-2 label.sk-toggleable__label {cursor: pointer;display: block;width: 100%;margin-bottom: 0;padding: 0.3em;box-sizing: border-box;text-align: center;}#sk-container-id-2 label.sk-toggleable__label-arrow:before {content: \"▸\";float: left;margin-right: 0.25em;color: #696969;}#sk-container-id-2 label.sk-toggleable__label-arrow:hover:before {color: black;}#sk-container-id-2 div.sk-estimator:hover label.sk-toggleable__label-arrow:before {color: black;}#sk-container-id-2 div.sk-toggleable__content {max-height: 0;max-width: 0;overflow: hidden;text-align: left;background-color: #f0f8ff;}#sk-container-id-2 div.sk-toggleable__content pre {margin: 0.2em;color: black;border-radius: 0.25em;background-color: #f0f8ff;}#sk-container-id-2 input.sk-toggleable__control:checked~div.sk-toggleable__content {max-height: 200px;max-width: 100%;overflow: auto;}#sk-container-id-2 input.sk-toggleable__control:checked~label.sk-toggleable__label-arrow:before {content: \"▾\";}#sk-container-id-2 div.sk-estimator input.sk-toggleable__control:checked~label.sk-toggleable__label {background-color: #d4ebff;}#sk-container-id-2 div.sk-label input.sk-toggleable__control:checked~label.sk-toggleable__label {background-color: #d4ebff;}#sk-container-id-2 input.sk-hidden--visually {border: 0;clip: rect(1px 1px 1px 1px);clip: rect(1px, 1px, 1px, 1px);height: 1px;margin: -1px;overflow: hidden;padding: 0;position: absolute;width: 1px;}#sk-container-id-2 div.sk-estimator {font-family: monospace;background-color: #f0f8ff;border: 1px dotted black;border-radius: 0.25em;box-sizing: border-box;margin-bottom: 0.5em;}#sk-container-id-2 div.sk-estimator:hover {background-color: #d4ebff;}#sk-container-id-2 div.sk-parallel-item::after {content: \"\";width: 100%;border-bottom: 1px solid gray;flex-grow: 1;}#sk-container-id-2 div.sk-label:hover label.sk-toggleable__label {background-color: #d4ebff;}#sk-container-id-2 div.sk-serial::before {content: \"\";position: absolute;border-left: 1px solid gray;box-sizing: border-box;top: 0;bottom: 0;left: 50%;z-index: 0;}#sk-container-id-2 div.sk-serial {display: flex;flex-direction: column;align-items: center;background-color: white;padding-right: 0.2em;padding-left: 0.2em;position: relative;}#sk-container-id-2 div.sk-item {position: relative;z-index: 1;}#sk-container-id-2 div.sk-parallel {display: flex;align-items: stretch;justify-content: center;background-color: white;position: relative;}#sk-container-id-2 div.sk-item::before, #sk-container-id-2 div.sk-parallel-item::before {content: \"\";position: absolute;border-left: 1px solid gray;box-sizing: border-box;top: 0;bottom: 0;left: 50%;z-index: -1;}#sk-container-id-2 div.sk-parallel-item {display: flex;flex-direction: column;z-index: 1;position: relative;background-color: white;}#sk-container-id-2 div.sk-parallel-item:first-child::after {align-self: flex-end;width: 50%;}#sk-container-id-2 div.sk-parallel-item:last-child::after {align-self: flex-start;width: 50%;}#sk-container-id-2 div.sk-parallel-item:only-child::after {width: 0;}#sk-container-id-2 div.sk-dashed-wrapped {border: 1px dashed gray;margin: 0 0.4em 0.5em 0.4em;box-sizing: border-box;padding-bottom: 0.4em;background-color: white;}#sk-container-id-2 div.sk-label label {font-family: monospace;font-weight: bold;display: inline-block;line-height: 1.2em;}#sk-container-id-2 div.sk-label-container {text-align: center;}#sk-container-id-2 div.sk-container {/* jupyter's `normalize.less` sets `[hidden] { display: none; }` but bootstrap.min.css set `[hidden] { display: none !important; }` so we also need the `!important` here to be able to override the default hidden behavior on the sphinx rendered scikit-learn.org. See: https://github.com/scikit-learn/scikit-learn/issues/21755 */display: inline-block !important;position: relative;}#sk-container-id-2 div.sk-text-repr-fallback {display: none;}</style><div id=\"sk-container-id-2\" class=\"sk-top-container\"><div class=\"sk-text-repr-fallback\"><pre>DecisionTreeClassifier()</pre><b>In a Jupyter environment, please rerun this cell to show the HTML representation or trust the notebook. <br />On GitHub, the HTML representation is unable to render, please try loading this page with nbviewer.org.</b></div><div class=\"sk-container\" hidden><div class=\"sk-item\"><div class=\"sk-estimator sk-toggleable\"><input class=\"sk-toggleable__control sk-hidden--visually\" id=\"sk-estimator-id-2\" type=\"checkbox\" checked><label for=\"sk-estimator-id-2\" class=\"sk-toggleable__label sk-toggleable__label-arrow\">DecisionTreeClassifier</label><div class=\"sk-toggleable__content\"><pre>DecisionTreeClassifier()</pre></div></div></div></div></div>"
      ],
      "text/plain": [
       "DecisionTreeClassifier()"
      ]
     },
     "execution_count": 56,
     "metadata": {},
     "output_type": "execute_result"
    }
   ],
   "source": [
    "clf = DecisionTreeClassifier()"
   ]
  },
  {
   "cell_type": "code",
   "execution_count": 57,
   "id": "e837f3cb",
   "metadata": {},
   "outputs": [
    {
     "data": {
      "text/html": [
       "<style>#sk-container-id-3 {color: black;background-color: white;}#sk-container-id-3 pre{padding: 0;}#sk-container-id-3 div.sk-toggleable {background-color: white;}#sk-container-id-3 label.sk-toggleable__label {cursor: pointer;display: block;width: 100%;margin-bottom: 0;padding: 0.3em;box-sizing: border-box;text-align: center;}#sk-container-id-3 label.sk-toggleable__label-arrow:before {content: \"▸\";float: left;margin-right: 0.25em;color: #696969;}#sk-container-id-3 label.sk-toggleable__label-arrow:hover:before {color: black;}#sk-container-id-3 div.sk-estimator:hover label.sk-toggleable__label-arrow:before {color: black;}#sk-container-id-3 div.sk-toggleable__content {max-height: 0;max-width: 0;overflow: hidden;text-align: left;background-color: #f0f8ff;}#sk-container-id-3 div.sk-toggleable__content pre {margin: 0.2em;color: black;border-radius: 0.25em;background-color: #f0f8ff;}#sk-container-id-3 input.sk-toggleable__control:checked~div.sk-toggleable__content {max-height: 200px;max-width: 100%;overflow: auto;}#sk-container-id-3 input.sk-toggleable__control:checked~label.sk-toggleable__label-arrow:before {content: \"▾\";}#sk-container-id-3 div.sk-estimator input.sk-toggleable__control:checked~label.sk-toggleable__label {background-color: #d4ebff;}#sk-container-id-3 div.sk-label input.sk-toggleable__control:checked~label.sk-toggleable__label {background-color: #d4ebff;}#sk-container-id-3 input.sk-hidden--visually {border: 0;clip: rect(1px 1px 1px 1px);clip: rect(1px, 1px, 1px, 1px);height: 1px;margin: -1px;overflow: hidden;padding: 0;position: absolute;width: 1px;}#sk-container-id-3 div.sk-estimator {font-family: monospace;background-color: #f0f8ff;border: 1px dotted black;border-radius: 0.25em;box-sizing: border-box;margin-bottom: 0.5em;}#sk-container-id-3 div.sk-estimator:hover {background-color: #d4ebff;}#sk-container-id-3 div.sk-parallel-item::after {content: \"\";width: 100%;border-bottom: 1px solid gray;flex-grow: 1;}#sk-container-id-3 div.sk-label:hover label.sk-toggleable__label {background-color: #d4ebff;}#sk-container-id-3 div.sk-serial::before {content: \"\";position: absolute;border-left: 1px solid gray;box-sizing: border-box;top: 0;bottom: 0;left: 50%;z-index: 0;}#sk-container-id-3 div.sk-serial {display: flex;flex-direction: column;align-items: center;background-color: white;padding-right: 0.2em;padding-left: 0.2em;position: relative;}#sk-container-id-3 div.sk-item {position: relative;z-index: 1;}#sk-container-id-3 div.sk-parallel {display: flex;align-items: stretch;justify-content: center;background-color: white;position: relative;}#sk-container-id-3 div.sk-item::before, #sk-container-id-3 div.sk-parallel-item::before {content: \"\";position: absolute;border-left: 1px solid gray;box-sizing: border-box;top: 0;bottom: 0;left: 50%;z-index: -1;}#sk-container-id-3 div.sk-parallel-item {display: flex;flex-direction: column;z-index: 1;position: relative;background-color: white;}#sk-container-id-3 div.sk-parallel-item:first-child::after {align-self: flex-end;width: 50%;}#sk-container-id-3 div.sk-parallel-item:last-child::after {align-self: flex-start;width: 50%;}#sk-container-id-3 div.sk-parallel-item:only-child::after {width: 0;}#sk-container-id-3 div.sk-dashed-wrapped {border: 1px dashed gray;margin: 0 0.4em 0.5em 0.4em;box-sizing: border-box;padding-bottom: 0.4em;background-color: white;}#sk-container-id-3 div.sk-label label {font-family: monospace;font-weight: bold;display: inline-block;line-height: 1.2em;}#sk-container-id-3 div.sk-label-container {text-align: center;}#sk-container-id-3 div.sk-container {/* jupyter's `normalize.less` sets `[hidden] { display: none; }` but bootstrap.min.css set `[hidden] { display: none !important; }` so we also need the `!important` here to be able to override the default hidden behavior on the sphinx rendered scikit-learn.org. See: https://github.com/scikit-learn/scikit-learn/issues/21755 */display: inline-block !important;position: relative;}#sk-container-id-3 div.sk-text-repr-fallback {display: none;}</style><div id=\"sk-container-id-3\" class=\"sk-top-container\"><div class=\"sk-text-repr-fallback\"><pre>DecisionTreeClassifier()</pre><b>In a Jupyter environment, please rerun this cell to show the HTML representation or trust the notebook. <br />On GitHub, the HTML representation is unable to render, please try loading this page with nbviewer.org.</b></div><div class=\"sk-container\" hidden><div class=\"sk-item\"><div class=\"sk-estimator sk-toggleable\"><input class=\"sk-toggleable__control sk-hidden--visually\" id=\"sk-estimator-id-3\" type=\"checkbox\" checked><label for=\"sk-estimator-id-3\" class=\"sk-toggleable__label sk-toggleable__label-arrow\">DecisionTreeClassifier</label><div class=\"sk-toggleable__content\"><pre>DecisionTreeClassifier()</pre></div></div></div></div></div>"
      ],
      "text/plain": [
       "DecisionTreeClassifier()"
      ]
     },
     "execution_count": 57,
     "metadata": {},
     "output_type": "execute_result"
    }
   ],
   "source": [
    "clf.fit(X_train,y_train)"
   ]
  },
  {
   "cell_type": "code",
   "execution_count": 59,
   "id": "9f6ff3e2",
   "metadata": {},
   "outputs": [
    {
     "data": {
      "text/plain": [
       "array([0, 0, 1, ..., 0, 1, 0], dtype=int64)"
      ]
     },
     "execution_count": 59,
     "metadata": {},
     "output_type": "execute_result"
    }
   ],
   "source": [
    "y_pred = clf.predict(X_test)\n",
    "y_pred"
   ]
  },
  {
   "cell_type": "code",
   "execution_count": 60,
   "id": "c8839e7e",
   "metadata": {},
   "outputs": [
    {
     "data": {
      "text/plain": [
       "0.988440334341099"
      ]
     },
     "execution_count": 60,
     "metadata": {},
     "output_type": "execute_result"
    }
   ],
   "source": [
    "# checking accuracy score\n",
    "from sklearn.metrics import accuracy_score\n",
    "accuracy_score(y_test,y_pred)"
   ]
  },
  {
   "cell_type": "code",
   "execution_count": 62,
   "id": "a8822c79",
   "metadata": {},
   "outputs": [
    {
     "data": {
      "text/plain": [
       "0.9073857281355111"
      ]
     },
     "execution_count": 62,
     "metadata": {},
     "output_type": "execute_result"
    }
   ],
   "source": [
    "r2_score(y_test,y_pred)\n"
   ]
  },
  {
   "cell_type": "code",
   "execution_count": 63,
   "id": "b1ec65c0",
   "metadata": {},
   "outputs": [],
   "source": [
    "from sklearn.metrics import classification_report"
   ]
  },
  {
   "cell_type": "code",
   "execution_count": 64,
   "id": "d871255f",
   "metadata": {},
   "outputs": [
    {
     "name": "stdout",
     "output_type": "stream",
     "text": [
      "              precision    recall  f1-score   support\n",
      "\n",
      "           0       0.99      0.99      0.99      9602\n",
      "           1       0.96      0.97      0.96      1644\n",
      "\n",
      "    accuracy                           0.99     11246\n",
      "   macro avg       0.98      0.98      0.98     11246\n",
      "weighted avg       0.99      0.99      0.99     11246\n",
      "\n"
     ]
    }
   ],
   "source": [
    "print(classification_report(y_test,y_pred))"
   ]
  },
  {
   "cell_type": "code",
   "execution_count": null,
   "id": "91854447",
   "metadata": {},
   "outputs": [],
   "source": []
  }
 ],
 "metadata": {
  "kernelspec": {
   "display_name": "Python 3 (ipykernel)",
   "language": "python",
   "name": "python3"
  },
  "language_info": {
   "codemirror_mode": {
    "name": "ipython",
    "version": 3
   },
   "file_extension": ".py",
   "mimetype": "text/x-python",
   "name": "python",
   "nbconvert_exporter": "python",
   "pygments_lexer": "ipython3",
   "version": "3.11.3"
  }
 },
 "nbformat": 4,
 "nbformat_minor": 5
}
